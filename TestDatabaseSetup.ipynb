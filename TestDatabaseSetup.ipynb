{
 "cells": [
  {
   "cell_type": "markdown",
   "metadata": {},
   "source": [
    "## Test Database Setup:\n",
    "\n",
    "### Setup Data source\n",
    "\n",
    "Data Source=(localdb)\\ProjectsV13;Initial Catalog=JupyterDB;Integrated Security=True;Connect Timeout=30;Encrypt=False;TrustServerCertificate=True;ApplicationIntent=ReadWrite;MultiSubnetFailover=False\n",
    "\n",
    "### Create DB\n",
    "\n",
    "USE master\n",
    "GO\n",
    "IF NOT EXISTS (\n",
    "   SELECT name\n",
    "   FROM sys.databases\n",
    "   WHERE name = N'JupyterDB'\n",
    ")\n",
    "CREATE DATABASE [JupyterDB]\n",
    "\n",
    "\n",
    "### Create Table\n",
    "-- Create a new table called 'Employees' in schema 'dbo'\n",
    "-- Drop the table if it already exists\n",
    "IF OBJECT_ID('dbo.Employees', 'U') IS NOT NULL\n",
    "DROP TABLE dbo.Employees\n",
    "GO\n",
    "-- Create the table in the specified schema\n",
    "CREATE TABLE dbo.Employees\n",
    "(\n",
    "   EmployeesId        INT    NOT NULL   PRIMARY KEY, -- primary key column\n",
    "   Name      [NVARCHAR](50)  NOT NULL,\n",
    "   Location   [NVARCHAR](50)  NOT NULL\n",
    ");\n",
    "GO\n",
    "\n",
    "### Populate with test data\n",
    "\n",
    "INSERT INTO Employees\n",
    "   ([EmployeesId],[Name],[Location])\n",
    "VALUES\n",
    "   ( 1, N'Jared', N'Australia'),\n",
    "   ( 2, N'Nikita', N'India'),\n",
    "   ( 3, N'Tom', N'Germany'),\n",
    "   ( 4, N'Jake', N'United States')   \n",
    "GO  \n",
    "\n",
    "### Validate tables are populated\n",
    "-- Query the total count of employees\n",
    "SELECT COUNT(*) as EmployeeCount FROM dbo.Employees;\n",
    "-- Query all employee information\n",
    "SELECT e.EmployeesId, e.Name, e.Location \n",
    "FROM dbo.Employees as e\n",
    "GO\n",
    "use master\n",
    "go\n",
    "\n",
    "select * from employees"
   ]
  },
  {
   "cell_type": "code",
   "execution_count": null,
   "metadata": {},
   "outputs": [],
   "source": []
  },
  {
   "cell_type": "code",
   "execution_count": null,
   "metadata": {},
   "outputs": [],
   "source": []
  }
 ],
 "metadata": {
  "kernelspec": {
   "display_name": "Python 3",
   "language": "python",
   "name": "python3"
  },
  "language_info": {
   "codemirror_mode": {
    "name": "ipython",
    "version": 3
   },
   "file_extension": ".py",
   "mimetype": "text/x-python",
   "name": "python",
   "nbconvert_exporter": "python",
   "pygments_lexer": "ipython3",
   "version": "3.7.1"
  }
 },
 "nbformat": 4,
 "nbformat_minor": 2
}
